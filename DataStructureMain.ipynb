{
  "nbformat": 4,
  "nbformat_minor": 0,
  "metadata": {
    "colab": {
      "provenance": []
    },
    "kernelspec": {
      "name": "python3",
      "display_name": "Python 3"
    },
    "language_info": {
      "name": "python"
    }
  },
  "cells": [
    {
      "cell_type": "markdown",
      "source": [
        "#Data Types and Structures Questions\n"
      ],
      "metadata": {
        "id": "KckJQ5VFLzB1"
      }
    },
    {
      "cell_type": "markdown",
      "source": [
        "1.  What are data structures, and why are they important?\n",
        "\n",
        "-> Data structures are ways to organize and store data in computers for easy access and modification. Common types include arrays, lists, stacks, queues, trees, and hash tables.\n",
        "\n",
        "**Why They're Important:**\n",
        "\n",
        "* **Efficiency**: They help perform tasks faster.\n",
        "* **Data Management:** They organize large amounts of data.\n",
        "* **Memory Use:** They help save memory.\n",
        "* **Scalability:** They handle more data easily.\n",
        "* **Problem Solving:** Many tasks depend on specific data structures.\n",
        "\n",
        "In short, data structures make software faster and more efficient."
      ],
      "metadata": {
        "id": "Cj6BL1nNMCgr"
      }
    },
    {
      "cell_type": "markdown",
      "source": [
        "2.  Explain the difference between mutable and immutable data types with examples.\n",
        "\n",
        "-> Mutable and immutable data types refer to whether the data within the object can be changed after it is created.\n",
        "\n",
        "* **Mutable Data Types:**\n",
        " Mutable data types can be changed or modified after creation.\n",
        "Examples: Lists, Dictionaries, Sets.\n",
        "\n",
        "* **Immutable Data Types:**\n",
        "Immutable data types cannot be changed once created. Any operation that tries to modify it creates a new object instead.\n",
        "Examples: Tuples, Strings, Integers."
      ],
      "metadata": {
        "id": "zayQV66ANczZ"
      }
    },
    {
      "cell_type": "markdown",
      "source": [
        "3. What are the main differences between lists and tuples in Python?\n",
        "\n",
        "-> The main differences between lists and tuples in Python are in how they can be used and created. Lists are mutable, meaning you can change, add, or remove items after creating them. They are written using square brackets []. Tuples, however, are immutable, so once created, their items cannot be changed. They are written using parentheses (). Tuples are usually faster than lists because they can't be changed. Lists have more methods, like append() and remove(), to modify their contents, while tuples have fewer methods because they can't be changed. In short, lists are flexible and can be modified, while tuples are faster and used for data that shouldn't change."
      ],
      "metadata": {
        "id": "7xA_4f1xN6Yr"
      }
    },
    {
      "cell_type": "markdown",
      "source": [
        "4.  Describe how dictionaries store data.\n",
        "\n",
        "->\n",
        "Dictionaries in Python store data as key-value pairs. The key is used to identify the data, and the value is the actual information. Keys must be unique and immutable (like strings or numbers), while values can be anything. Dictionaries use a method to quickly find the value based on its key. For example, in my_dict = {\"name\": \"Alice\", \"age\": 25, \"city\": \"New York\"}, \"name\", \"age\", and \"city\" are the keys, and \"Alice\", 25, and \"New York\" are the values. You can get a value by using its key, like my_dict[\"name\"]. Dictionaries are fast for looking up, adding, and removing data."
      ],
      "metadata": {
        "id": "mnwF1HIMOYZ0"
      }
    },
    {
      "cell_type": "markdown",
      "source": [
        "5.  Why might you use a set instead of a list in Python?\n",
        "->\n",
        "**You might use a set instead of a list in Python for several reasons:**\n",
        "\n",
        "**Uniqueness**: A set automatically removes duplicate values. If you want to ensure that all elements are unique, a set is a good choice.\n",
        "\n",
        "**Faster Lookups:** Sets use hashing, which makes checking for membership (whether an item exists in the set) much faster than in a list. In a list, this can take longer as the entire list may need to be searched.\n",
        "\n",
        "**Mathematical Set Operations:** Sets support operations like union, intersection, difference, and symmetric difference, which are helpful for tasks like comparing or combining data.\n",
        "\n",
        "**No Order:** Sets do not maintain the order of elements, so if you don’t care about the order of items, using a set can be more efficient.\n",
        "\n",
        "In short, use a set when you need unique elements, fast lookups, or need to perform set operations, and don’t require an ordered collection."
      ],
      "metadata": {
        "id": "8c-HRxiiO312"
      }
    },
    {
      "cell_type": "markdown",
      "source": [
        "6.  What is a string in Python, and how is it different from a list?\n",
        "\n",
        "-> A string in Python is a sequence of characters enclosed in quotes (either single or double) and is used to represent text. It is immutable, meaning you cannot modify its contents once it is created. In contrast, a list is a collection of elements that can hold various types of data, such as numbers, strings, or other lists, and it is mutable, meaning you can change, add, or remove elements. While strings support operations like slicing, concatenation, and repetition, they do not allow modification of individual characters. Lists, on the other hand, offer more flexibility, allowing you to modify elements directly and perform other operations like appending or removing items. In short, strings are for text and are immutable, while lists are more versatile, holding any data type and allowing modifications."
      ],
      "metadata": {
        "id": "84xlvIBSPvQw"
      }
    },
    {
      "cell_type": "markdown",
      "source": [
        "7. How do tuples ensure data integrity in Python?\n",
        "\n",
        "-> Tuples ensure data integrity in Python by being immutable, meaning once a tuple is created, its contents cannot be changed, added, or removed. This immutability helps maintain the consistency and integrity of the data, as it prevents accidental or intentional modifications. Since you can't alter the elements of a tuple, you can rely on the tuple to remain unchanged throughout the program, which is especially useful when you need to ensure that certain data remains constant. This feature makes tuples ideal for representing fixed collections of data, like coordinates or configuration settings, where any change could lead to errors or inconsistencies in the program"
      ],
      "metadata": {
        "id": "zWbbv557QBsw"
      }
    },
    {
      "cell_type": "markdown",
      "source": [
        "8.  What is a hash table, and how does it relate to dictionaries in Python?\n",
        "-> A hash table is a data structure that stores data in key-value pairs. It uses a hash function to convert each key into a number (called a hash), which determines where the value is stored in memory. This allows for fast access to values because you can directly find the location using the key.\n",
        "\n",
        "In Python, dictionaries work like hash tables. When you create a dictionary, Python uses a hash function to store the keys in a way that makes looking up values quick and efficient.\n",
        "\n",
        "* For example, in my_dict = {\"name\": \"Alice\", \"age\": 25}, Python hashes the keys \"name\" and \"age\", allowing fast access to their corresponding values."
      ],
      "metadata": {
        "id": "892okTeVQM8L"
      }
    },
    {
      "cell_type": "markdown",
      "source": [
        "9.  Can lists contain different data types in Python?\n",
        "\n",
        "-> Yes, in Python, lists can contain elements of different data types. A list is a flexible container that can hold items of any type, including numbers, strings, other lists, tuples, dictionaries, and even custom objects."
      ],
      "metadata": {
        "id": "4S44ZeeWQhvA"
      }
    },
    {
      "cell_type": "markdown",
      "source": [
        "10.  Explain why strings are immutable in Python\n",
        "\n",
        "-> Strings in Python are immutable, meaning once a string is created, it cannot be changed. This is done for several reasons: it makes programs more efficient by allowing Python to reuse strings in memory, ensures safety in multi-threaded environments since no thread can accidentally change a string, allows strings to be used as reliable keys in dictionaries or items in sets, and simplifies the behavior of strings so you don't have to worry about unexpected changes. If you need to modify a string, you must create a new one instead. For example, s = \"hello\" can't be changed directly, but you can do s = \"H\" + s[1:] to get a new string \"Hello\"."
      ],
      "metadata": {
        "id": "0nuliDNvBh4a"
      }
    },
    {
      "cell_type": "markdown",
      "source": [
        "11.  What advantages do dictionaries offer over lists for certain task?\n",
        "\n",
        "->\n",
        "Dictionaries offer several advantages over lists, especially for tasks that involve fast lookups, managing key-value pairs, and ensuring uniqueness. Unlike lists, which require sequential searches, dictionaries allow for quick access to values using unique keys, making lookups faster (O(1) time). This structure is ideal when you need to associate specific values with identifiers, such as mapping user IDs to user data. Additionally, dictionaries automatically prevent duplicate keys, ensuring data integrity. They also make it easier to update or add values based on a key, providing more efficient and intuitive handling of complex data compared to lists, which only store values in a linear order."
      ],
      "metadata": {
        "id": "sXlqENbZB8pj"
      }
    },
    {
      "cell_type": "markdown",
      "source": [
        "12.  Describe a scenario where using a tuple would be preferable over a list.\n",
        "\n",
        "-> A scenario where using a tuple would be preferable over a list is when you need to store a fixed collection of values that should not be changed, such as representing coordinates or configurations. For example, consider storing the RGB values of a color: (255, 0, 0) for red. Once the color is defined, you don’t want these values to change accidentally, as they represent a fixed, immutable state. Since tuples are immutable (their values can't be modified after creation), they provide data integrity and prevent accidental changes. Additionally, tuples use less memory and are faster than lists, making them more efficient when you need to store a small, fixed collection of values, like dates or points in a 3D space."
      ],
      "metadata": {
        "id": "ri5zNklMCMGv"
      }
    },
    {
      "cell_type": "markdown",
      "source": [
        "13.  How do sets handle duplicate values in Python ?\n",
        "\n",
        "-> In Python, sets automatically remove duplicate values. If you try to add a duplicate element, it will be ignored. For example:"
      ],
      "metadata": {
        "id": "f9aywUCVCre9"
      }
    },
    {
      "cell_type": "markdown",
      "source": [
        "14.  How does the “in” keyword work differently for lists and dictionaries ?\n",
        "\n",
        "-> The in keyword works differently for lists and dictionaries in Python. For a list, in checks if a value is present in the list, returning True if the value exists, and False otherwise. For example, 2 in [1, 2, 3] returns True. In a dictionary, however, in checks if a key is present, not the value. So, a in {\"a\": 1, \"b\": 2} returns True (since \"a\" is a key), but 1 in {\"a\": 1, \"b\": 2} returns False because 1 is a value, not a key."
      ],
      "metadata": {
        "id": "5E41X7RmC9HE"
      }
    },
    {
      "cell_type": "markdown",
      "source": [
        "15.  Can you modify the elements of a tuple? Explain why or why not.\n",
        "\n",
        "-> No, you cannot modify the elements of a tuple in Python because tuples are immutable. Once a tuple is created, its contents cannot be changed, added to, or removed. This immutability is by design to provide data integrity and to ensure that the tuple’s values remain constant throughout the program. If you need to modify the values, you would have to create a new tuple.\n",
        "\n",
        "In contrast, lists are mutable, meaning their elements can be changed, added, or removed. However, the key reason tuples are immutable is for performance benefits and to make them reliable for use as dictionary keys or in sets, where their hash value must remain constant."
      ],
      "metadata": {
        "id": "jib9-zcUDKYq"
      }
    },
    {
      "cell_type": "markdown",
      "source": [
        "16.  What is a nested dictionary, and give an example of its use case ?\n",
        "\n",
        "-> A nested dictionary is a dictionary where the values themselves are dictionaries. This allows you to represent more complex, hierarchical data structures, where each key can point to another dictionary, which can have its own keys and values. Nested dictionaries are useful for representing multi-level data, such as records with multiple attributes or data in a tree-like structure.\n",
        "\n",
        "**Use Case:**\n",
        "\n",
        "Nested dictionaries are great for situations where you need to organize data with multiple levels of detail, such as:\n",
        "\n",
        "* Storing information about employees (name, department, salary, etc.)\n",
        "* Managing product catalog data with categories, prices, and inventory levels\n",
        "* Organizing configurations or settings in software with multiple sections and options\n",
        "\n"
      ],
      "metadata": {
        "id": "nYVRY0nADiUu"
      }
    },
    {
      "cell_type": "markdown",
      "source": [
        "17. Describe the time complexity of accessing elements in a dictionary\n",
        "\n",
        "->\n",
        "The time complexity of accessing elements in a dictionary in Python is O(1) on average, meaning that it takes constant time to retrieve a value, regardless of the size of the dictionary.\n",
        "\n",
        "This efficient access is possible because dictionaries are implemented using hash tables. When you look up a key, Python computes a hash of the key and directly accesses the corresponding value from memory.\n",
        "\n",
        "**Key Points:**\n",
        "\n",
        "* **Average-case time complexity:** O(1) — Looking up a value by key is fast and happens in constant time.\n",
        "* **Worst-case time complexity:** O(n) — In rare cases, due to hash collisions (when two keys have the same hash value), all keys might need to be compared, making the lookup time proportional to the number of elements in the dictionary. However, Python uses techniques like open addressing and rehashing to keep this unlikely to happen in practice."
      ],
      "metadata": {
        "id": "wekXg_wqEVTi"
      }
    },
    {
      "cell_type": "markdown",
      "source": [
        "18. In what situations are lists preferred over dictionaries?\n",
        "\n",
        "->Lists are preferred over dictionaries when you need to store ordered data, where the order of items matters. Lists also allow duplicates, so if you need to store repeated values, lists are better. They're useful for sequential processing, where you want to loop through items one by one, or when you need to access elements by their index (position) rather than a key. Lists are simpler when you don’t need key-value pairs, just a collection of items in a specific order.\n",
        "\n",
        "**Example Scenarios**:\n",
        "* Ordered Data: If you have a list of tasks to do in a specific order.\n",
        "* Duplicates: If you want to store multiple occurrences of the same value, like product names.\n",
        "* Sequential Processing: If you need to process items in a list, like scores or names.\n",
        "* Index Access: When you need to get an element by its position in the list.\n",
        "\n",
        "In short, lists are great for simple, ordered collections where you may need duplicates or access by position."
      ],
      "metadata": {
        "id": "DXvhq2Z-E9_c"
      }
    },
    {
      "cell_type": "markdown",
      "source": [
        "19. Why are dictionaries considered unordered, and how does that affect data retrieval ?\n",
        "\n",
        "->\n",
        "Dictionaries in Python are considered unordered because they use hash tables to store key-value pairs, which don’t maintain the order of insertion. This means the order of items can change when you iterate over the dictionary. However, dictionaries are still very efficient for retrieving values by their key, with O(1) average time complexity. You can't access items by index like you can in a list, but you can quickly retrieve values using their unique keys. If you need ordered data, you can use OrderedDict or sort the dictionary manually."
      ],
      "metadata": {
        "id": "NgGciKw7FoLl"
      }
    },
    {
      "cell_type": "markdown",
      "source": [
        "20. Explain the difference between a list and a dictionary in terms of data retrieval.\n",
        "\n",
        "-> In a list, you access elements by their index (position), and the order of items is preserved. Lists are great for ordered collections, but accessing a specific item by value takes longer (O(n)).\n",
        "\n",
        "In a dictionary, you access values by their key, not by position. Dictionaries are unordered but allow for fast lookups (O(1) on average) because they use hash tables.\n",
        "\n",
        "So, lists are good for ordered data accessed by position, while dictionaries are better for fast lookups using unique keys."
      ],
      "metadata": {
        "id": "jRfHg0-sF2wj"
      }
    },
    {
      "cell_type": "markdown",
      "source": [
        "# Practical Questions"
      ],
      "metadata": {
        "id": "EBpnkYy_Gfzf"
      }
    },
    {
      "cell_type": "markdown",
      "source": [
        " 1. Write a code to create a string with your name and print it."
      ],
      "metadata": {
        "id": "v78rybCVGpDh"
      }
    },
    {
      "cell_type": "code",
      "source": [
        "# Create a string with your name\n",
        "name = \"Abhishek yadav\"\n",
        "\n",
        "# Print the string\n",
        "print(name)"
      ],
      "metadata": {
        "id": "xFh02iOVGw50"
      },
      "execution_count": null,
      "outputs": []
    },
    {
      "cell_type": "markdown",
      "source": [
        "2.  Write a code to find the length of the string \"Hello World\""
      ],
      "metadata": {
        "id": "tjEwVxBfG6Xy"
      }
    },
    {
      "cell_type": "code",
      "source": [
        "my_string = \"Hello World\"\n",
        "\n",
        "# Find and print the length of the string\n",
        "length = len(my_string)\n",
        "print(length)"
      ],
      "metadata": {
        "id": "b5hlBN-zG_2j"
      },
      "execution_count": null,
      "outputs": []
    },
    {
      "cell_type": "markdown",
      "source": [
        "3. Write a code to slice the first 3 characters from the string \"Python Programming\"."
      ],
      "metadata": {
        "id": "SYwnp3tOHDtn"
      }
    },
    {
      "cell_type": "code",
      "source": [
        "my_string = \"Python Programming\"\n",
        "\n",
        "# Slice the first 3 characters\n",
        "sliced_string = my_string[:3]\n",
        "\n",
        "# Print the sliced string\n",
        "print(sliced_string)"
      ],
      "metadata": {
        "id": "LDxPhKV8HKx_"
      },
      "execution_count": null,
      "outputs": []
    },
    {
      "cell_type": "markdown",
      "source": [
        "4.  Write a code to convert the string \"hello\" to uppercase."
      ],
      "metadata": {
        "id": "DzzFKBA8HYQ5"
      }
    },
    {
      "cell_type": "code",
      "source": [
        "# Define the string\n",
        "my_string = \"hello\"\n",
        "\n",
        "# Convert the string to uppercase\n",
        "uppercase_string = my_string.upper()\n",
        "\n",
        "# Print the uppercase string\n",
        "print(uppercase_string)"
      ],
      "metadata": {
        "id": "bgd_FzCJHbkz"
      },
      "execution_count": null,
      "outputs": []
    },
    {
      "cell_type": "markdown",
      "source": [
        "5.  Write a code to replace the word \"apple\" with \"orange\" in the string \"I like apple\""
      ],
      "metadata": {
        "id": "5airAoWTHgAh"
      }
    },
    {
      "cell_type": "code",
      "source": [
        "# Define the string\n",
        "my_string = \"I like apple\"\n",
        "\n",
        "# Replace \"apple\" with \"orange\"\n",
        "new_string = my_string.replace(\"apple\", \"orange\")\n",
        "\n",
        "# Print the new string\n",
        "print(new_string)"
      ],
      "metadata": {
        "id": "1g1xg5KQHj3Z"
      },
      "execution_count": null,
      "outputs": []
    },
    {
      "cell_type": "markdown",
      "source": [
        " 6. Write a code to create a list with numbers 1 to 5 and print it"
      ],
      "metadata": {
        "id": "csqlAAhBHnzE"
      }
    },
    {
      "cell_type": "code",
      "source": [
        "# Create the list with numbers 1 to 5\n",
        "my_list = [1, 2, 3, 4, 5]\n",
        "\n",
        "# Print the list\n",
        "print(my_list)"
      ],
      "metadata": {
        "id": "MtjqVgKRHuGb"
      },
      "execution_count": null,
      "outputs": []
    },
    {
      "cell_type": "markdown",
      "source": [
        "7.  Write a code to append the number 10 to the list [1, 2, 3, 4]"
      ],
      "metadata": {
        "id": "bxAwDNmhHuxf"
      }
    },
    {
      "cell_type": "code",
      "source": [
        "# Define the list\n",
        "my_list = [1, 2, 3, 4]\n",
        "\n",
        "# Append the number 10 to the list\n",
        "my_list.append(10)\n",
        "\n",
        "# Print the updated list\n",
        "print(my_list)"
      ],
      "metadata": {
        "id": "ooR1Gh0EH0qR"
      },
      "execution_count": null,
      "outputs": []
    },
    {
      "cell_type": "markdown",
      "source": [
        "8.  Write a code to remove the number 3 from the list [1, 2, 3, 4, 5]"
      ],
      "metadata": {
        "id": "868LEBFYH1RK"
      }
    },
    {
      "cell_type": "code",
      "source": [
        "# Define the list\n",
        "my_list = [1, 2, 3, 4, 5]\n",
        "\n",
        "# Remove the number 3 from the list\n",
        "my_list.remove(3)\n",
        "\n",
        "# Print the updated list\n",
        "print(my_list)"
      ],
      "metadata": {
        "id": "Z3RBzmZJH4TH"
      },
      "execution_count": null,
      "outputs": []
    },
    {
      "cell_type": "markdown",
      "source": [
        "9.  Write a code to access the second element in the list ['a', 'b', 'c', 'd']"
      ],
      "metadata": {
        "id": "R1xxPtpNH9RY"
      }
    },
    {
      "cell_type": "code",
      "source": [
        "# Define the list\n",
        "my_list = ['a', 'b', 'c', 'd']\n",
        "\n",
        "# Access the second element (index 1)\n",
        "second_element = my_list[1]\n",
        "\n",
        "# Print the second element\n",
        "print(second_element)"
      ],
      "metadata": {
        "id": "4UoUz7uyIFgr"
      },
      "execution_count": null,
      "outputs": []
    },
    {
      "cell_type": "markdown",
      "source": [
        "10. Write a code to reverse the list [10, 20, 30, 40, 50]"
      ],
      "metadata": {
        "id": "fqDBK1Y7IGSq"
      }
    },
    {
      "cell_type": "code",
      "source": [
        "# Define the list\n",
        "my_list = [10, 20, 30, 40, 50]\n",
        "\n",
        "# Reverse the list\n",
        "my_list.reverse()\n",
        "\n",
        "# Print the reversed list\n",
        "print(my_list)"
      ],
      "metadata": {
        "id": "nVw2nZw2IRtF"
      },
      "execution_count": null,
      "outputs": []
    },
    {
      "cell_type": "markdown",
      "source": [
        "11.  Write a code to create a tuple with the elements 10, 20, 30 and print it."
      ],
      "metadata": {
        "id": "z9X7L0NMISez"
      }
    },
    {
      "cell_type": "code",
      "source": [
        "# Create the tuple\n",
        "my_tuple = (10, 20, 30)\n",
        "\n",
        "# Print the tuple\n",
        "print(my_tuple)"
      ],
      "metadata": {
        "id": "3oMf2eRTIVIZ"
      },
      "execution_count": null,
      "outputs": []
    },
    {
      "cell_type": "markdown",
      "source": [
        "12. Write a code to access the first element of the tuple ('apple', 'banana', 'cherry')."
      ],
      "metadata": {
        "id": "hdhIU805IZpV"
      }
    },
    {
      "cell_type": "code",
      "source": [
        "# Define the tuple\n",
        "my_tuple = ('apple', 'banana', 'cherry')\n",
        "\n",
        "# Access the first element (index 0)\n",
        "first_element = my_tuple[0]\n",
        "\n",
        "# Print the first element\n",
        "print(first_element)"
      ],
      "metadata": {
        "id": "CRDmCsYeId7K"
      },
      "execution_count": null,
      "outputs": []
    },
    {
      "cell_type": "markdown",
      "source": [
        "13. Write a code to count how many times the number 2 appears in the tuple (1, 2, 3, 2, 4, 2)."
      ],
      "metadata": {
        "id": "fv5O5BzyIhO4"
      }
    },
    {
      "cell_type": "code",
      "source": [
        "# Define the tuple\n",
        "my_tuple = (1, 2, 3, 2, 4, 2)\n",
        "\n",
        "# Count how many times the number 2 appears\n",
        "count_2 = my_tuple.count(2)\n",
        "\n",
        "# Print the result\n",
        "print(count_2)"
      ],
      "metadata": {
        "id": "zNHZcUVsIl38"
      },
      "execution_count": null,
      "outputs": []
    },
    {
      "cell_type": "markdown",
      "source": [
        "14. Write a code to find the index of the element \"cat\" in the tuple ('dog', 'cat', 'rabbit')."
      ],
      "metadata": {
        "id": "CGms_54nIq24"
      }
    },
    {
      "cell_type": "code",
      "source": [
        "# Define the tuple\n",
        "my_tuple = ('dog', 'cat', 'rabbit')\n",
        "\n",
        "# Find the index of \"cat\"\n",
        "index_of_cat = my_tuple.index('cat')\n",
        "\n",
        "# Print the result\n",
        "print(index_of_cat)"
      ],
      "metadata": {
        "id": "kT-nMEjEIyMU"
      },
      "execution_count": null,
      "outputs": []
    },
    {
      "cell_type": "markdown",
      "source": [
        "15. Write a code to check if the element \"banana\" is in the tuple ('apple', 'orange', 'banana')."
      ],
      "metadata": {
        "id": "3xUnR0iWIzWb"
      }
    },
    {
      "cell_type": "code",
      "source": [
        "# Define the tuple\n",
        "my_tuple = ('apple', 'orange', 'banana')\n",
        "\n",
        "# Check if \"banana\" is in the tuple\n",
        "if \"banana\" in my_tuple:\n",
        "    print(\"Yes, 'banana' is in the tuple.\")\n",
        "else:\n",
        "    print(\"No, 'banana' is not in the tuple.\")"
      ],
      "metadata": {
        "id": "0ppf8ZJLI2j_"
      },
      "execution_count": null,
      "outputs": []
    },
    {
      "cell_type": "markdown",
      "source": [
        "16.  Write a code to create a set with the elements 1, 2, 3, 4, 5 and print it"
      ],
      "metadata": {
        "id": "lgkBvJuAI8jd"
      }
    },
    {
      "cell_type": "code",
      "source": [
        "# Create the set\n",
        "my_set = {1, 2, 3, 4, 5}\n",
        "\n",
        "# Print the set\n",
        "print(my_set)"
      ],
      "metadata": {
        "id": "My7Q8KccJAia"
      },
      "execution_count": null,
      "outputs": []
    },
    {
      "cell_type": "markdown",
      "source": [
        "17. Write a code to add the element 6 to the set {1, 2, 3, 4}."
      ],
      "metadata": {
        "id": "H8yZLjQPJFzd"
      }
    },
    {
      "cell_type": "code",
      "source": [
        "# Define the set\n",
        "my_set = {1, 2, 3, 4}\n",
        "\n",
        "# Add the element 6 to the set\n",
        "my_set.add(6)\n",
        "\n",
        "# Print the updated set\n",
        "print(my_set)"
      ],
      "metadata": {
        "id": "zlgcqAp0JJWq"
      },
      "execution_count": null,
      "outputs": []
    },
    {
      "cell_type": "markdown",
      "source": [
        "18. Write a code to create a tuple with the elements 10, 20, 30 and print it."
      ],
      "metadata": {
        "id": "nziaXtDYJOpa"
      }
    },
    {
      "cell_type": "code",
      "source": [
        "# Create the tuple\n",
        "my_tuple = (10, 20, 30)\n",
        "\n",
        "# Print the tuple\n",
        "print(my_tuple)"
      ],
      "metadata": {
        "id": "a6NFvzbdJTWz"
      },
      "execution_count": null,
      "outputs": []
    },
    {
      "cell_type": "markdown",
      "source": [
        "19. Write a code to access the first element of the tuple ('apple', 'banana', 'cherry')."
      ],
      "metadata": {
        "id": "LYViamIVJXzk"
      }
    },
    {
      "cell_type": "code",
      "source": [
        "# Define the tuple\n",
        "my_tuple = ('apple', 'banana', 'cherry')\n",
        "\n",
        "# Access the first element (index 0)\n",
        "first_element = my_tuple[0]\n",
        "\n",
        "# Print the first element\n",
        "print(first_element)"
      ],
      "metadata": {
        "id": "vtdfOooQJcq8"
      },
      "execution_count": null,
      "outputs": []
    },
    {
      "cell_type": "markdown",
      "source": [
        "20. Write a code to count how many times the number 2 appears in the tuple (1, 2, 3, 2, 4, 2)"
      ],
      "metadata": {
        "id": "SHn8cY3BJfgc"
      }
    },
    {
      "cell_type": "code",
      "source": [
        "# Define the tuple\n",
        "my_tuple = (1, 2, 3, 2, 4, 2)\n",
        "\n",
        "# Count how many times the number 2 appears\n",
        "count_2 = my_tuple.count(2)\n",
        "\n",
        "# Print the result\n",
        "print(count_2)"
      ],
      "metadata": {
        "id": "vv-YhzoUJluS"
      },
      "execution_count": null,
      "outputs": []
    },
    {
      "cell_type": "markdown",
      "source": [
        "21. Write a code to find the index of the element \"cat\" in the tuple ('dog', 'cat', 'rabbit')."
      ],
      "metadata": {
        "id": "eIPpGOmPJmkQ"
      }
    },
    {
      "cell_type": "code",
      "source": [
        "# Define the tuple\n",
        "my_tuple = ('dog', 'cat', 'rabbit')\n",
        "\n",
        "# Find the index of \"cat\"\n",
        "index_of_cat = my_tuple.index('cat')\n",
        "\n",
        "# Print the result\n",
        "print(index_of_cat)"
      ],
      "metadata": {
        "id": "hJ3o83vWJpcP"
      },
      "execution_count": null,
      "outputs": []
    },
    {
      "cell_type": "markdown",
      "source": [
        "22. . Write a code to check if the element \"banana\" is in the tuple ('apple', 'orange', 'banana')."
      ],
      "metadata": {
        "id": "-s7YBdM2Jxeo"
      }
    },
    {
      "cell_type": "code",
      "source": [
        "# Define the tuple\n",
        "my_tuple = ('apple', 'orange', 'banana')\n",
        "\n",
        "# Check if \"banana\" is in the tuple\n",
        "if \"banana\" in my_tuple:\n",
        "    print(\"Yes, 'banana' is in the tuple.\")\n",
        "else:\n",
        "    print(\"No, 'banana' is not in the tuple.\")"
      ],
      "metadata": {
        "id": "eSt46StiJ0HX"
      },
      "execution_count": null,
      "outputs": []
    },
    {
      "cell_type": "markdown",
      "source": [
        "23. Write a code to create a set with the elements 1, 2, 3, 4, 5 and print it."
      ],
      "metadata": {
        "id": "ZyYmX-A-J4V_"
      }
    },
    {
      "cell_type": "code",
      "source": [
        "# Create the set\n",
        "my_set = {1, 2, 3, 4, 5}\n",
        "\n",
        "# Print the set\n",
        "print(my_set)"
      ],
      "metadata": {
        "id": "y5qtHZCVKCEf"
      },
      "execution_count": null,
      "outputs": []
    },
    {
      "cell_type": "markdown",
      "source": [
        "24. Write a code to add the element 6 to the set {1, 2, 3, 4}."
      ],
      "metadata": {
        "id": "TGdAW9MuKDFg"
      }
    },
    {
      "cell_type": "code",
      "source": [
        "# Define the set\n",
        "my_set = {1, 2, 3, 4}\n",
        "\n",
        "# Add the element 6 to the set\n",
        "my_set.add(6)\n",
        "\n",
        "# Print the updated set\n",
        "print(my_set)"
      ],
      "metadata": {
        "id": "S4HalqtBKMDY"
      },
      "execution_count": null,
      "outputs": []
    }
  ]
}